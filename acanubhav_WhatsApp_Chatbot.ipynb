{
 "cells": [
  {
   "cell_type": "code",
   "execution_count": 1,
   "metadata": {},
   "outputs": [],
   "source": [
    "from selenium import webdriver\n",
    "from webdriver_manager.chrome import ChromeDriverManager\n",
    "import random\n",
    "from selenium.webdriver.common.keys import Keys\n"
   ]
  },
  {
   "cell_type": "code",
   "execution_count": 2,
   "metadata": {},
   "outputs": [
    {
     "name": "stdout",
     "output_type": "stream",
     "text": [
      "Requirement already satisfied: selenium in ./my_project_env/lib/python3.6/site-packages (3.141.0)\r\n",
      "Requirement already satisfied: urllib3 in ./my_project_env/lib/python3.6/site-packages (from selenium) (1.25.9)\r\n"
     ]
    }
   ],
   "source": [
    "!pip install selenium"
   ]
  },
  {
   "cell_type": "code",
   "execution_count": 3,
   "metadata": {},
   "outputs": [
    {
     "name": "stdout",
     "output_type": "stream",
     "text": [
      "Requirement already satisfied: webdriver_manager in ./my_project_env/lib/python3.6/site-packages (2.5.3)\n",
      "Requirement already satisfied: requests in ./my_project_env/lib/python3.6/site-packages (from webdriver_manager) (2.23.0)\n",
      "Requirement already satisfied: crayons in ./my_project_env/lib/python3.6/site-packages (from webdriver_manager) (0.3.0)\n",
      "Requirement already satisfied: configparser in ./my_project_env/lib/python3.6/site-packages (from webdriver_manager) (5.0.0)\n",
      "Requirement already satisfied: urllib3!=1.25.0,!=1.25.1,<1.26,>=1.21.1 in ./my_project_env/lib/python3.6/site-packages (from requests->webdriver_manager) (1.25.9)\n",
      "Requirement already satisfied: certifi>=2017.4.17 in ./my_project_env/lib/python3.6/site-packages (from requests->webdriver_manager) (2020.4.5.1)\n",
      "Requirement already satisfied: idna<3,>=2.5 in ./my_project_env/lib/python3.6/site-packages (from requests->webdriver_manager) (2.9)\n",
      "Requirement already satisfied: chardet<4,>=3.0.2 in ./my_project_env/lib/python3.6/site-packages (from requests->webdriver_manager) (3.0.4)\n",
      "Requirement already satisfied: colorama in ./my_project_env/lib/python3.6/site-packages (from crayons->webdriver_manager) (0.4.3)\n"
     ]
    }
   ],
   "source": [
    "!pip install webdriver_manager"
   ]
  },
  {
   "cell_type": "code",
   "execution_count": 55,
   "metadata": {},
   "outputs": [
    {
     "name": "stderr",
     "output_type": "stream",
     "text": [
      "[WDM] - Cache is valid for [08/06/2020]\n",
      "[WDM] - Looking for [chromedriver 83.0.4103.39 linux64] driver in cache \n",
      "[WDM] - Driver found in cache [/home/anubhav/.wdm/drivers/chromedriver/83.0.4103.39/linux64/chromedriver]\n"
     ]
    },
    {
     "name": "stdout",
     "output_type": "stream",
     "text": [
      " \n"
     ]
    }
   ],
   "source": [
    "chrome = webdriver.Chrome(ChromeDriverManager().install())"
   ]
  },
  {
   "cell_type": "code",
   "execution_count": 56,
   "metadata": {},
   "outputs": [],
   "source": [
    "chrome.get(\"https://web.whatsapp.com\")"
   ]
  },
  {
   "cell_type": "code",
   "execution_count": 58,
   "metadata": {},
   "outputs": [],
   "source": [
    "search_box = chrome.find_element_by_class_name(\"_3FRCZ\")\n",
    "search_box.send_keys(\"Banglore\")\n",
    "search_box.send_keys(Keys.ENTER)"
   ]
  },
  {
   "cell_type": "code",
   "execution_count": 59,
   "metadata": {},
   "outputs": [],
   "source": [
    "    message_box = chrome.find_element_by_xpath('//*[@id=\"main\"]/footer/div[1]/div[2]/div/div[2]')\n",
    "    for i in range(10):\n",
    "        message_box.send_keys(\"Hello!!\")\n",
    "        message_box.send_keys(Keys.ENTER)"
   ]
  },
  {
   "cell_type": "code",
   "execution_count": 60,
   "metadata": {},
   "outputs": [],
   "source": [
    "emoji=[\":-)\",\";-)\",\">_<\",\":-(\",\"^_^\"]\n",
    "message_box = chrome.find_element_by_xpath('//*[@id=\"main\"]/footer/div[1]/div[2]/div/div[2]')\n",
    "for i in range(10):\n",
    "    message_box.send_keys(random.choice(emoji))\n",
    "    message_box.send_keys(Keys.ENTER)"
   ]
  },
  {
   "cell_type": "code",
   "execution_count": 11,
   "metadata": {},
   "outputs": [],
   "source": [
    "attachement_box = chrome.find_element_by_xpath('//*[@id=\"main\"]/header/div[3]/div/div[2]/div/span')\n",
    "attachement_box.click()"
   ]
  },
  {
   "cell_type": "code",
   "execution_count": 42,
   "metadata": {},
   "outputs": [
    {
     "name": "stdout",
     "output_type": "stream",
     "text": [
      "enter imahe url#!wget 'https://pbs.twimg.com/profile_images/1091974962804514817/lhsJS84G_400x400.jpg'  image_url=input(\"enter imahe url\")\n"
     ]
    }
   ],
   "source": [
    "#!wget 'https://pbs.twimg.com/profile_images/1091974962804514817/lhsJS84G_400x400.jpg' \n",
    "image_url=input(\"enter image url\")\n",
    "image_box = chrome.find_element_by_xpath('//*[@id=\"main\"]/header/div[3]/div/div[2]/span/div/div/ul/li[1]')\n",
    "image_box.click()\n",
    "input_box = chrome.find_element_by_tag_name('input')\n",
    "file_path='/home/anubhav/my_project_dir/lhsJS84G_400x400.jpg'\n",
    "\n",
    "input_box.send_keys(file_path)\n",
    "\n",
    "\n",
    "import time\n",
    "time.sleep(2) #wait for 2 secs\n",
    "\n",
    "but=chrome.find_element_by_xpath('//*[@id=\"app\"]/div/div/div[2]/div[2]/span/div/span/div/div/div[2]/span/div/div/span')\n",
    "\n",
    "\n",
    "#click the send button\n",
    "but.click()\n"
   ]
  },
  {
   "cell_type": "code",
   "execution_count": 37,
   "metadata": {},
   "outputs": [
    {
     "name": "stdout",
     "output_type": "stream",
     "text": [
      "enter imahe urlhttps://www.tecmint.com/wp-content/uploads/2017/08/Rename-File-While-Downloading.png\n",
      "--2020-06-08 13:25:57--  https://www.tecmint.com/wp-content/uploads/2017/08/Rename-File-While-Downloading.png\n",
      "Resolving www.tecmint.com (www.tecmint.com)... 172.67.72.207, 104.26.2.23, 104.26.3.23, ...\n",
      "Connecting to www.tecmint.com (www.tecmint.com)|172.67.72.207|:443... connected.\n",
      "HTTP request sent, awaiting response... 200 OK\n",
      "Length: 22107 (22K) [image/png]\n",
      "Saving to: ‘Rename-File-While-Downloading.png’\n",
      "\n",
      "Rename-File-While-D 100%[===================>]  21.59K  --.-KB/s    in 0.003s  \n",
      "\n",
      "2020-06-08 13:25:58 (8.26 MB/s) - ‘Rename-File-While-Downloading.png’ saved [22107/22107]\n",
      "\n"
     ]
    }
   ],
   "source": [
    "#!wget 'https://pbs.twimg.com/profile_images/1091974962804514817/lhsJS84G_400x400.jpg' \n",
    "image_url=input(\"enter image url\")\n",
    "!wget -cO $image_url >hello_2.jpg "
   ]
  },
  {
   "cell_type": "code",
   "execution_count": 39,
   "metadata": {},
   "outputs": [
    {
     "name": "stdout",
     "output_type": "stream",
     "text": [
      "bin\t\t\tlhsJS84G_400x400.jpg.4\r\n",
      "Chatbot.ipynb\t\tlhsJS84G_400x400.jpg.5\r\n",
      "hello_2.jpg\t\tlib\r\n",
      "lhsJS84G_400x400.jpg\tmy_project_env\r\n",
      "lhsJS84G_400x400.jpg.1\tpyvenv.cfg\r\n",
      "lhsJS84G_400x400.jpg.2\tRename-File-While-Downloading.png\r\n",
      "lhsJS84G_400x400.jpg.3\r\n"
     ]
    }
   ],
   "source": [
    "!ls"
   ]
  },
  {
   "cell_type": "code",
   "execution_count": 52,
   "metadata": {},
   "outputs": [
    {
     "name": "stdout",
     "output_type": "stream",
     "text": [
      "········\n"
     ]
    }
   ],
   "source": [
    "from getpass import getpass\n",
    "\n",
    "chrome.get(\"https://instagram.com\")\n",
    "\n",
    "\n",
    "username = chrome.find_element_by_xpath('//*[@id=\"react-root\"]/section/main/article/div[2]/div[1]/div/form/div[2]/div/label/input')\n",
    "username.send_keys(\"acanubhav@gmail.com\")\n",
    "\n",
    "password = chrome.find_element_by_xpath('//*[@id=\"react-root\"]/section/main/article/div[2]/div[1]/div/form/div[3]/div/label/input')\n",
    "pswd = getpass()\n",
    "password.send_keys(pswd)\n",
    "login_btn = chrome.find_element_by_xpath('//*[@id=\"react-root\"]/section/main/article/div[2]/div[1]/div/form/div[4]')\n",
    "login_btn.click()"
   ]
  },
  {
   "cell_type": "code",
   "execution_count": 53,
   "metadata": {},
   "outputs": [],
   "source": [
    "search_bar = chrome.find_element_by_xpath('//*[@id=\"react-root\"]/section/nav/div[2]/div/div/div[2]/input')\n",
    "search_bar.send_keys(\"shreyasingh4u_\")\n",
    "time.sleep(3)\n",
    "search_bar.send_keys(Keys.ENTER)\n",
    "search_bar.send_keys(Keys.ENTER)"
   ]
  },
  {
   "cell_type": "code",
   "execution_count": null,
   "metadata": {},
   "outputs": [],
   "source": [
    "post = chrome.find_element_by_xpath('//*[@id=\"react-root\"]/section/main/div/div[2]/article/div[1]/div/div[1]/div[1]/a/div/div[2]')\n",
    "post.click()\n",
    "like_btn = chrome.find_element_by_xpath('/html/body/div[4]/div[2]/div/article/div[2]/section[1]/span[1]/button')\n",
    "like_btn.click()\n",
    "next_btn = chrome.find_element_by_xpath('/html/body/div[4]/div[1]/div/div/a')\n",
    "next_btn.click()"
   ]
  },
  {
   "cell_type": "code",
   "execution_count": null,
   "metadata": {},
   "outputs": [],
   "source": [
    "while True:\n",
    "    try:\n",
    "        like_btn = chrome.find_element_by_xpath('/html/body/div[4]/div[2]/div/article/div[2]/section[1]/span[1]/button')\n",
    "        like_btn.click()\n",
    "        next_btn = chrome.find_element_by_xpath('/html/body/div[4]/div[1]/div/div/a[2]')\n",
    "        next_btn.click()\n",
    "        time.sleep(2)\n",
    "    except:\n",
    "        close_btn = chrome.find_element_by_xpath('/html/body/div[4]/div[3]/button')\n",
    "        close_btn.click()\n",
    "        break"
   ]
  }
 ],
 "metadata": {
  "kernelspec": {
   "display_name": "Python 3",
   "language": "python",
   "name": "python3"
  },
  "language_info": {
   "codemirror_mode": {
    "name": "ipython",
    "version": 3
   },
   "file_extension": ".py",
   "mimetype": "text/x-python",
   "name": "python",
   "nbconvert_exporter": "python",
   "pygments_lexer": "ipython3",
   "version": "3.6.9"
  }
 },
 "nbformat": 4,
 "nbformat_minor": 4
}
